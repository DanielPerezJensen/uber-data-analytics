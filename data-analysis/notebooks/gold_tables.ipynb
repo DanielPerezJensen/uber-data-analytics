{
 "cells": [
  {
   "cell_type": "code",
   "execution_count": null,
   "id": "fdfde988",
   "metadata": {},
   "outputs": [],
   "source": [
    "import os\n",
    "\n",
    "data_path = os.path.join(\"..\", \"data\")\n",
    "bronze_data_path = os.path.join(data_path, \"bronze\")\n",
    "bronze = os.path.join(bronze_data_path, \"ncr_ride_bookings.csv\")\n",
    "silver_data_file_path = os.path.join(data_path, \"silver\", \"uber-silver-data.csv\")"
   ]
  },
  {
   "cell_type": "code",
   "execution_count": null,
   "id": "6c021d62",
   "metadata": {},
   "outputs": [],
   "source": [
    "import pandas as pd\n",
    "\n",
    "silver_df = pd.read_csv(silver_data_file_path)\n",
    "silver_df.head()"
   ]
  },
  {
   "cell_type": "markdown",
   "id": "521ce9be",
   "metadata": {},
   "source": [
    "# Geolocation"
   ]
  },
  {
   "cell_type": "markdown",
   "id": "146d05bc",
   "metadata": {},
   "source": [
    "# Weather"
   ]
  },
  {
   "cell_type": "code",
   "execution_count": null,
   "id": "e569bc3e",
   "metadata": {},
   "outputs": [],
   "source": [
    "import openmeteo_requests\n",
    "\n",
    "import pandas as pd\n",
    "import requests_cache\n",
    "from retry_requests import retry\n",
    "\n",
    "# Setup the Open-Meteo API client with cache and retry on error\n",
    "cache_session = requests_cache.CachedSession(\".cache\", expire_after=-1)\n",
    "retry_session = retry(cache_session, retries=5, backoff_factor=0.2)\n",
    "openmeteo = openmeteo_requests.Client(session=retry_session)\n",
    "\n",
    "# Make sure all required weather variables are listed here\n",
    "# The order of variables in hourly or daily is important to assign them correctly below\n",
    "url = \"https://archive-api.open-meteo.com/v1/archive\"\n",
    "params = {\n",
    "    \"latitude\": 52.52,\n",
    "    \"longitude\": 13.41,\n",
    "    \"start_date\": \"2025-08-31\",\n",
    "    \"end_date\": \"2025-09-14\",\n",
    "    \"hourly\": [\"temperature_2m\", \"precipitation\", \"rain\", \"snowfall\"],\n",
    "}\n",
    "responses = openmeteo.weather_api(url, params=params)\n",
    "\n",
    "# Process first location. Add a for-loop for multiple locations or weather models\n",
    "response = responses[0]\n",
    "print(f\"Coordinates: {response.Latitude()}°N {response.Longitude()}°E\")\n",
    "print(f\"Elevation: {response.Elevation()} m asl\")\n",
    "print(f\"Timezone difference to GMT+0: {response.UtcOffsetSeconds()}s\")\n",
    "\n",
    "# Process hourly data. The order of variables needs to be the same as requested.\n",
    "hourly = response.Hourly()\n",
    "hourly_temperature_2m = hourly.Variables(0).ValuesAsNumpy()\n",
    "hourly_precipitation = hourly.Variables(1).ValuesAsNumpy()\n",
    "hourly_rain = hourly.Variables(2).ValuesAsNumpy()\n",
    "hourly_snowfall = hourly.Variables(3).ValuesAsNumpy()\n",
    "\n",
    "hourly_data = {\n",
    "    \"date\": pd.date_range(\n",
    "        start=pd.to_datetime(hourly.Time(), unit=\"s\", utc=True),\n",
    "        end=pd.to_datetime(hourly.TimeEnd(), unit=\"s\", utc=True),\n",
    "        freq=pd.Timedelta(seconds=hourly.Interval()),\n",
    "        inclusive=\"left\",\n",
    "    )\n",
    "}\n",
    "\n",
    "hourly_data[\"temperature_2m\"] = hourly_temperature_2m\n",
    "hourly_data[\"precipitation\"] = hourly_precipitation\n",
    "hourly_data[\"rain\"] = hourly_rain\n",
    "hourly_data[\"snowfall\"] = hourly_snowfall\n",
    "\n",
    "hourly_dataframe = pd.DataFrame(data=hourly_data)\n",
    "print(\"\\nHourly data\\n\", hourly_dataframe)"
   ]
  },
  {
   "cell_type": "markdown",
   "id": "06aee730",
   "metadata": {},
   "source": [
    "# Traffic conditions\n",
    "\n",
    "https://developer.tomtom.com/traffic-api/documentation/traffic-flow/flow-segment-data#response-data"
   ]
  }
 ],
 "metadata": {
  "kernelspec": {
   "display_name": "data-analysis",
   "language": "python",
   "name": "python3"
  },
  "language_info": {
   "codemirror_mode": {
    "name": "ipython",
    "version": 3
   },
   "file_extension": ".py",
   "mimetype": "text/x-python",
   "name": "python",
   "nbconvert_exporter": "python",
   "pygments_lexer": "ipython3",
   "version": "3.12.6"
  }
 },
 "nbformat": 4,
 "nbformat_minor": 5
}
