{
 "cells": [
  {
   "cell_type": "code",
   "execution_count": null,
   "id": "fdfde988",
   "metadata": {},
   "outputs": [],
   "source": [
    "import os\n",
    "\n",
    "data_path = os.path.join(\"..\", \"data\")\n",
    "bronze_data_path = os.path.join(data_path, \"bronze\")\n",
    "bronze = os.path.join(bronze_data_path, \"ncr_ride_bookings.csv\")\n",
    "silver_data_file_path = os.path.join(data_path, \"silver\", \"uber-silver-data.csv\")"
   ]
  },
  {
   "cell_type": "code",
   "execution_count": null,
   "id": "6c021d62",
   "metadata": {},
   "outputs": [],
   "source": [
    "import pandas as pd\n",
    "\n",
    "silver_df = pd.read_csv(silver_data_file_path)\n",
    "silver_df.head()"
   ]
  },
  {
   "cell_type": "markdown",
   "id": "521ce9be",
   "metadata": {},
   "source": [
    "# Geolocation"
   ]
  },
  {
   "cell_type": "code",
   "execution_count": null,
   "id": "e9b4aa84",
   "metadata": {},
   "outputs": [],
   "source": [
    "unique_locations = list(silver_df[\"pickup_location\"].unique()) + list(silver_df[\"drop_location\"].unique())\n",
    "\n",
    "loc_dict = {unique_location: None for unique_location in unique_locations}"
   ]
  },
  {
   "cell_type": "code",
   "execution_count": null,
   "id": "45ed6843",
   "metadata": {},
   "outputs": [],
   "source": [
    "from tqdm.notebook import tqdm\n",
    "from geopy.geocoders import Nominatim\n",
    "import time\n",
    "\n",
    "loc = Nominatim(user_agent=\"GetLoc\", timeout=10)\n",
    "\n",
    "\n",
    "# Increase timeout to 10 seconds\n",
    "def get_loc(location_string: str, max_retries: int = 3, delay: float = 1.5):\n",
    "    for attempt in range(max_retries):\n",
    "        try:\n",
    "            get_location = loc.geocode(location_string)\n",
    "            if get_location is None:\n",
    "                return None, None\n",
    "            return get_location.latitude, get_location.longitude\n",
    "\n",
    "        except Exception as e:\n",
    "            print(f\"Attempt {attempt + 1} failed for '{location_string}': {e}\")\n",
    "            if attempt < max_retries - 1:\n",
    "                time.sleep(delay)\n",
    "            else:\n",
    "                return None, None\n",
    "\n",
    "\n",
    "for location in tqdm(loc_dict):\n",
    "    if loc_dict[location] is None:\n",
    "        loc_dict[location] = get_loc(location)"
   ]
  },
  {
   "cell_type": "code",
   "execution_count": null,
   "id": "4a78a304",
   "metadata": {},
   "outputs": [],
   "source": [
    "# convert to dataframe\n",
    "loc_df = (\n",
    "    pd.DataFrame.from_dict(loc_dict, orient=\"index\", columns=[\"latitude\", \"longitude\"])\n",
    "    .reset_index()\n",
    "    .rename(columns={\"index\": \"location\"})\n",
    ")\n",
    "\n",
    "print(loc_df.head())"
   ]
  },
  {
   "cell_type": "markdown",
   "id": "146d05bc",
   "metadata": {},
   "source": [
    "# Weather"
   ]
  },
  {
   "cell_type": "code",
   "execution_count": null,
   "id": "7d7581f5",
   "metadata": {},
   "outputs": [],
   "source": [
    "import requests_cache\n",
    "import openmeteo_requests\n",
    "from retry_requests import retry\n",
    "import numpy as np\n",
    "import time\n",
    "\n",
    "\n",
    "def get_weather_info(long, lat, start_date=\"2024-01-01\", end_date=\"2024-12-30\", max_retries=3, delay=60):\n",
    "    # Setup the Open-Meteo API client with cache and retry on error\n",
    "    cache_session = requests_cache.CachedSession(\".cache\", expire_after=-1)\n",
    "    retry_session = retry(cache_session, retries=5, backoff_factor=0.2)\n",
    "    openmeteo = openmeteo_requests.Client(session=retry_session)\n",
    "\n",
    "    url = \"https://archive-api.open-meteo.com/v1/archive\"\n",
    "    params = {\n",
    "        \"latitude\": lat,\n",
    "        \"longitude\": long,\n",
    "        \"start_date\": start_date,\n",
    "        \"end_date\": end_date,\n",
    "        \"hourly\": [\"temperature_2m\", \"rain\", \"snowfall\", \"wind_speed_10m\", \"wind_speed_100m\"],\n",
    "    }\n",
    "\n",
    "    for attempt in range(max_retries):\n",
    "        try:\n",
    "            responses = openmeteo.weather_api(url, params=params)\n",
    "            response = responses[0]\n",
    "\n",
    "            hourly = response.Hourly()\n",
    "            hourly_temperature_2m = hourly.Variables(0).ValuesAsNumpy()\n",
    "            hourly_rain = hourly.Variables(1).ValuesAsNumpy()\n",
    "            hourly_snowfall = hourly.Variables(2).ValuesAsNumpy()\n",
    "            hourly_wind_speed_10m = hourly.Variables(3).ValuesAsNumpy()\n",
    "            hourly_wind_speed_100m = hourly.Variables(4).ValuesAsNumpy()\n",
    "\n",
    "            hourly_data = {\n",
    "                \"date\": pd.date_range(\n",
    "                    start=pd.to_datetime(hourly.Time(), unit=\"s\", utc=True),\n",
    "                    end=pd.to_datetime(hourly.TimeEnd(), unit=\"s\", utc=True),\n",
    "                    freq=pd.Timedelta(seconds=hourly.Interval()),\n",
    "                    inclusive=\"left\",\n",
    "                )\n",
    "            }\n",
    "\n",
    "            hourly_data[\"temperature_2m\"] = hourly_temperature_2m\n",
    "            hourly_data[\"rain\"] = hourly_rain\n",
    "            hourly_data[\"snowfall\"] = hourly_snowfall\n",
    "            hourly_data[\"wind_speed_10m\"] = hourly_wind_speed_10m\n",
    "            hourly_data[\"wind_speed_100m\"] = hourly_wind_speed_100m\n",
    "\n",
    "            return hourly_data\n",
    "        except Exception as e:\n",
    "            print(f\"Attempt {attempt + 1} failed for weather API at ({lat}, {long}): {e}\")\n",
    "            if attempt < max_retries - 1:\n",
    "                print(\"Waiting 1 minute before retrying...\")\n",
    "                time.sleep(delay)\n",
    "            else:\n",
    "                print(\"All retries failed.\")\n",
    "                return None"
   ]
  },
  {
   "cell_type": "code",
   "execution_count": null,
   "id": "f1041712",
   "metadata": {},
   "outputs": [],
   "source": [
    "min_date = silver_df[\"date\"].min()\n",
    "max_date = silver_df[\"date\"].max()\n",
    "\n",
    "weather_dfs = []\n",
    "\n",
    "for idx, row in tqdm(loc_df.dropna().iterrows(), total=loc_df.dropna().shape[0]):\n",
    "    location = row[\"location\"]\n",
    "    if row[\"latitude\"] == np.nan or row[\"longitude\"] == np.nan:\n",
    "        print(f\"Skipping location {location} due to missing coordinates.\")\n",
    "        continue\n",
    "    weather_data = get_weather_info(\n",
    "        long=row[\"longitude\"],\n",
    "        lat=row[\"latitude\"],\n",
    "        start_date=min_date,\n",
    "        end_date=max_date,\n",
    "    )\n",
    "    weather_df = pd.DataFrame(weather_data)\n",
    "    weather_df[\"location\"] = location\n",
    "    weather_dfs.append(weather_df)\n",
    "\n",
    "\n",
    "all_weather_df = pd.concat(weather_dfs, ignore_index=True)\n",
    "# Convert date to format 2024-03-23 12:29:38\n",
    "all_weather_df[\"date\"] = pd.to_datetime(all_weather_df[\"date\"]).dt.strftime(\"%Y-%m-%d %H:%M:%S\")\n",
    "\n",
    "pd.set_option(\"display.float_format\", \"{:.4f}\".format)\n",
    "print(all_weather_df.head())\n",
    "all_weather_df.describe()"
   ]
  }
 ],
 "metadata": {
  "kernelspec": {
   "display_name": "data-analysis",
   "language": "python",
   "name": "python3"
  },
  "language_info": {
   "codemirror_mode": {
    "name": "ipython",
    "version": 3
   },
   "file_extension": ".py",
   "mimetype": "text/x-python",
   "name": "python",
   "nbconvert_exporter": "python",
   "pygments_lexer": "ipython3",
   "version": "3.12.6"
  }
 },
 "nbformat": 4,
 "nbformat_minor": 5
}
