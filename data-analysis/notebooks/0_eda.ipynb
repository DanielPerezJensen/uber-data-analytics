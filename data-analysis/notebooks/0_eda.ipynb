{
 "cells": [
  {
   "cell_type": "code",
   "execution_count": null,
   "id": "bbb00b4a",
   "metadata": {},
   "outputs": [],
   "source": [
    "import pandas as pd"
   ]
  },
  {
   "cell_type": "code",
   "execution_count": null,
   "id": "cbec49c3",
   "metadata": {},
   "outputs": [],
   "source": [
    "dataset = pd.read_csv(\"../data/ncr_ride_bookings.csv\")\n",
    "\n",
    "\n",
    "def rename_columns(df):\n",
    "    \"\"\"Apply function to lowercase all columns and replace spaces with underscores\"\"\"\n",
    "    df.columns = df.columns.str.lower().str.replace(\" \", \"_\")\n",
    "    return df\n",
    "\n",
    "\n",
    "dataset = rename_columns(dataset)"
   ]
  },
  {
   "cell_type": "code",
   "execution_count": null,
   "id": "96308f22",
   "metadata": {},
   "outputs": [],
   "source": [
    "dataset.head()"
   ]
  },
  {
   "cell_type": "code",
   "execution_count": null,
   "id": "2576b6f8",
   "metadata": {},
   "outputs": [],
   "source": [
    "# for each column, print a random selection of non null values and the number of unique values\n",
    "\n",
    "for col in dataset.columns:\n",
    "    print(f\"Column: {col}:\")\n",
    "    print(dataset[col].dropna().sample(5).values)\n",
    "    print(f\"Number of unique values: {dataset[col].nunique()}\")\n",
    "    print(\"\\n\")"
   ]
  },
  {
   "cell_type": "code",
   "execution_count": null,
   "id": "5d1dd88e",
   "metadata": {},
   "outputs": [],
   "source": [
    "def cast_to_dtypes(df):\n",
    "    new_df = df.copy()\n",
    "    new_df[\"date\"] = pd.to_datetime(new_df[\"date\"], errors=\"coerce\")\n",
    "    new_df[\"time\"] = pd.to_datetime(\n",
    "        new_df[\"time\"], format=\"%H:%M:%S\", errors=\"coerce\"\n",
    "    ).dt.time\n",
    "    # combine date and time columns to datetime\n",
    "    new_df[\"datetime\"] = pd.to_datetime(\n",
    "        new_df[\"Date\"].astype(str) + \" \" + new_df[\"Time\"].astype(str), errors=\"coerce\"\n",
    "    )\n",
    "    new_df.drop(columns=[\"date\", \"time\"], inplace=True)\n",
    "\n",
    "    new_df[\"booking_id\"] = new_df[\"booking_id\"].astype(pd.StringDtype())\n",
    "    new_df[\"booking_status\"] = new_df[\"booking_status\"].astype(\"category\")\n",
    "    new_df[\"customer_id\"] = new_df[\"customer_id\"].astype(pd.StringDtype())\n",
    "    new_df[\"vehicle_type\"] = new_df[\"vehicle_type\"].astype(\"category\")\n",
    "    new_df[\"pickup_location\"] = new_df[\"pickup_location\"].astype(\"category\")\n",
    "    new_df[\"drop_location\"] = new_df[\"drop_location\"].astype(\"category\")\n",
    "    new_df[\"avg_vtat\"] = pd.to_numeric(new_df[\"avg_vtat\"], errors=\"coerce\")\n",
    "    new_df[\"avg_ctat\"] = pd.to_numeric(new_df[\"avg_ctat\"], errors=\"coerce\")\n",
    "\n",
    "    # Add these columns and their types\n",
    "    new_df[\"reason_for_cancelling_by_customer\"] = new_df[\n",
    "        \"reason_for_cancelling_by_customer\"\n",
    "    ].astype(\"category\")\n",
    "    new_df[\"driver_cancellation_reason\"] = new_df[\"driver_cancellation_reason\"].astype(\n",
    "        \"category\"\n",
    "    )\n",
    "    new_df[\"cancelled_rides_by_driver\"] = pd.to_numeric(\n",
    "        new_df[\"cancelled_rides_by_driver\"], errors=\"coerce\"\n",
    "    )\n",
    "    new_df[\"cancelled_rides_by_customer\"] = pd.to_numeric(\n",
    "        new_df[\"cancelled_rides_by_customer\"], errors=\"coerce\"\n",
    "    )\n",
    "    new_df[\"incomplete_rides\"] = pd.to_numeric(\n",
    "        new_df[\"incomplete_rides\"], errors=\"coerce\"\n",
    "    )\n",
    "    new_df[\"incomplete_rides_reason\"] = new_df[\"incomplete_rides_reason\"].astype(\n",
    "        \"category\"\n",
    "    )\n",
    "    new_df[\"booking_value\"] = pd.to_numeric(new_df[\"booking_value\"], errors=\"coerce\")\n",
    "    new_df[\"ride_distance\"] = pd.to_numeric(new_df[\"ride_distance\"], errors=\"coerce\")\n",
    "    new_df[\"driver_ratings\"] = pd.to_numeric(new_df[\"driver_ratings\"], errors=\"coerce\")\n",
    "    new_df[\"customer_rating\"] = pd.to_numeric(\n",
    "        new_df[\"customer_rating\"], errors=\"coerce\"\n",
    "    )\n",
    "    new_df[\"payment_method\"] = new_df[\"payment_method\"].astype(\"category\")\n",
    "\n",
    "    return new_df\n",
    "\n",
    "\n",
    "dataset_typed = cast_to_dtypes(dataset)"
   ]
  },
  {
   "cell_type": "code",
   "execution_count": null,
   "id": "0766366c",
   "metadata": {},
   "outputs": [],
   "source": [
    "print(dataset_typed.info())"
   ]
  },
  {
   "cell_type": "code",
   "execution_count": null,
   "id": "a9bb1809",
   "metadata": {},
   "outputs": [],
   "source": [
    "# Get number of rows that have no null values in any column\n",
    "\n"
   ]
  }
 ],
 "metadata": {
  "kernelspec": {
   "display_name": "uber-data-analysis",
   "language": "python",
   "name": "python3"
  },
  "language_info": {
   "codemirror_mode": {
    "name": "ipython",
    "version": 3
   },
   "file_extension": ".py",
   "mimetype": "text/x-python",
   "name": "python",
   "nbconvert_exporter": "python",
   "pygments_lexer": "ipython3",
   "version": "3.12.6"
  }
 },
 "nbformat": 4,
 "nbformat_minor": 5
}
