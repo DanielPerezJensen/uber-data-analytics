{
 "cells": [
  {
   "cell_type": "code",
   "execution_count": 1,
   "id": "01d4352a",
   "metadata": {},
   "outputs": [
    {
     "data": {
      "text/plain": [
       "True"
      ]
     },
     "execution_count": 1,
     "metadata": {},
     "output_type": "execute_result"
    }
   ],
   "source": [
    "import dotenv\n",
    "import os\n",
    "\n",
    "dotenv.load_dotenv(\"../.env\")"
   ]
  },
  {
   "cell_type": "markdown",
   "id": "7397981a",
   "metadata": {},
   "source": [
    "# Fake example\n",
    "\n",
    "## Create langchain model"
   ]
  },
  {
   "cell_type": "code",
   "execution_count": 2,
   "id": "68eb1db1",
   "metadata": {},
   "outputs": [
    {
     "name": "stderr",
     "output_type": "stream",
     "text": [
      "WARNING: All log messages before absl::InitializeLog() is called are written to STDERR\n",
      "E0000 00:00:1759218759.978651   15001 alts_credentials.cc:93] ALTS creds ignored. Not running on GCP and untrusted ALTS is not enabled.\n"
     ]
    }
   ],
   "source": [
    "from langchain.chat_models import init_chat_model\n",
    "\n",
    "model = init_chat_model(\"gemini-2.5-flash\", model_provider=\"google_genai\")"
   ]
  },
  {
   "cell_type": "markdown",
   "id": "88a67f94",
   "metadata": {},
   "source": [
    "## Create fake data to test with"
   ]
  },
  {
   "cell_type": "code",
   "execution_count": 3,
   "id": "9cd4bb16",
   "metadata": {},
   "outputs": [],
   "source": [
    "import polars as pl\n",
    "\n",
    "# 1. Create a sample Polars DataFrame\n",
    "data = {\n",
    "    \"trip_id\": [1, 2, 3, 4, 5],\n",
    "    \"driver_id\": [101, 102, 101, 103, 102],\n",
    "    \"pickup_location\": [\"Downtown\", \"Uptown\", \"Midtown\", \"Downtown\", \"Airport\"],\n",
    "    \"dropoff_location\": [\"Airport\", \"Downtown\", \"Uptown\", \"Midtown\", \"Downtown\"],\n",
    "    \"fare\": [25.50, 15.75, 12.00, 8.50, 45.00],\n",
    "    \"rating\": [5, 4, 5, 4, 5],\n",
    "}\n",
    "\n",
    "df = pl.DataFrame(data)"
   ]
  },
  {
   "cell_type": "markdown",
   "id": "e4d84800",
   "metadata": {},
   "source": [
    "## Define agent state and graph nodes"
   ]
  },
  {
   "cell_type": "code",
   "execution_count": 4,
   "id": "dbf5e3dc",
   "metadata": {},
   "outputs": [],
   "source": [
    "import polars as pl\n",
    "from typing import TypedDict, Annotated\n",
    "from langchain_core.messages import AnyMessage, SystemMessage, HumanMessage, ToolMessage\n",
    "from langchain_core.prompts import ChatPromptTemplate\n",
    "\n",
    "import operator\n",
    "\n",
    "\n",
    "# 2. Define the Agent State\n",
    "class AgentState(TypedDict):\n",
    "    messages: Annotated[list[AnyMessage], operator.add]\n",
    "    result: str"
   ]
  },
  {
   "cell_type": "code",
   "execution_count": null,
   "id": "733d4002",
   "metadata": {},
   "outputs": [],
   "source": [
    "def generate_sql(state):\n",
    "    \"\"\"\n",
    "    Generates SQL code for Polars from a user's question.\n",
    "    \"\"\"\n",
    "    prompt = ChatPromptTemplate.from_messages(\n",
    "        [\n",
    "            (\n",
    "                \"system\",\n",
    "                f\"\"\"\n",
    "                    You are an expert in Polars and SQL. Generate a SQL query for the user's question, using the table 'df'.\n",
    "                    Only output the SQL code, no explanations. Make sure you wrap the actual sql code in markdown triple backticks with 'sql' after the first three backticks.\n",
    "                    Schema: {df.head()}\n",
    "                \"\"\",\n",
    "            ),\n",
    "            (\"user\", \"{question}\"),\n",
    "        ]\n",
    "    )\n",
    "    question = state[\"messages\"][-1].content\n",
    "    sql_code = model.invoke(prompt.format(question=question)).content\n",
    "    return {\"messages\": [SystemMessage(content=f\"Generated SQL:\\n{sql_code}\")]}\n",
    "\n",
    "\n",
    "def execute_sql(state):\n",
    "    \"\"\"\n",
    "    Executes the generated SQL code using Polars' SQL interface.\n",
    "    \"\"\"\n",
    "    # Extract SQL code, removing possible markdown/code block wrappers\n",
    "    sql_code = state[\"messages\"][-1].content\n",
    "    sql_code = sql_code.split(\"```\")[1].replace(\"sql\", \"\").strip()\n",
    "    print(sql_code)\n",
    "    try:\n",
    "        result = pl.sql(sql_code).collect()\n",
    "        result_str = result.to_pandas().to_markdown()\n",
    "    except Exception as e:\n",
    "        result_str = f\"Error executing SQL: {e}\"\n",
    "\n",
    "    return {\"messages\": [SystemMessage(content=result_str)]}\n",
    "\n",
    "\n",
    "def format_answer(state):\n",
    "    \"\"\"\n",
    "    Formats the final answer to the user.\n",
    "    \"\"\"\n",
    "    prompt = ChatPromptTemplate.from_messages(\n",
    "        [\n",
    "            (\n",
    "                \"system\",\n",
    "                \"\"\"\n",
    "                    You are a helpful assistant. Provide a concise answer based on the SQL query result.\n",
    "                    If the result is empty, say \"No data found\".\n",
    "                \"\"\",\n",
    "            ),\n",
    "            (\"user\", \"Based on the following SQL result, provide a concise answer:\\n{result}\"),\n",
    "        ]\n",
    "    )\n",
    "\n",
    "    sql_result = state[\"messages\"][-1].content\n",
    "    if \"Error executing SQL\" in sql_result:\n",
    "        answer = sql_result\n",
    "    else:\n",
    "        answer = model.invoke(prompt.format(result=sql_result)).content\n",
    "\n",
    "    return {\"result\": answer}"
   ]
  },
  {
   "cell_type": "code",
   "execution_count": 23,
   "id": "b09ee5c4",
   "metadata": {},
   "outputs": [],
   "source": [
    "from langgraph.graph import StateGraph, END\n",
    "\n",
    "# 4. Build the Graph\n",
    "graph_builder = StateGraph(AgentState)\n",
    "\n",
    "graph_builder.add_node(\"generate_sql\", generate_sql)\n",
    "graph_builder.add_node(\"execute_sql\", execute_sql)\n",
    "graph_builder.add_node(\"format_answer\", format_answer)\n",
    "\n",
    "graph_builder.set_entry_point(\"generate_sql\")\n",
    "graph_builder.add_edge(\"generate_sql\", \"execute_sql\")\n",
    "graph_builder.add_edge(\"execute_sql\", \"format_answer\")\n",
    "graph_builder.add_edge(\"format_answer\", END)\n",
    "\n",
    "graph = graph_builder.compile()"
   ]
  },
  {
   "cell_type": "code",
   "execution_count": 24,
   "id": "2d1d10ef",
   "metadata": {},
   "outputs": [
    {
     "name": "stdout",
     "output_type": "stream",
     "text": [
      "SELECT AVG(fare)\n",
      "FROM df\n",
      "WHERE pickup_location = 'Downtown';\n"
     ]
    }
   ],
   "source": [
    "result = graph.invoke(\n",
    "    {\n",
    "        \"messages\": [HumanMessage(content=\"What is the average fare for trips starting from Downtown?\")],\n",
    "    }\n",
    ")"
   ]
  },
  {
   "cell_type": "code",
   "execution_count": 25,
   "id": "664dfbad",
   "metadata": {},
   "outputs": [
    {
     "name": "stdout",
     "output_type": "stream",
     "text": [
      "{'messages': [HumanMessage(content='What is the average fare for trips starting from Downtown?', additional_kwargs={}, response_metadata={}), SystemMessage(content=\"Generated SQL:\\n```sql\\nSELECT AVG(fare)\\nFROM df\\nWHERE pickup_location = 'Downtown';\\n```\", additional_kwargs={}, response_metadata={}), SystemMessage(content='|    |   fare |\\n|---:|-------:|\\n|  0 |     17 |', additional_kwargs={}, response_metadata={})], 'result': 'The fare is 17.'}\n",
      "The fare is 17.\n"
     ]
    }
   ],
   "source": [
    "print(result)\n",
    "print(result[\"result\"])"
   ]
  },
  {
   "cell_type": "code",
   "execution_count": 9,
   "id": "777035e4",
   "metadata": {},
   "outputs": [
    {
     "data": {
      "image/png": "[encoded data removed]",
      "text/plain": [
       "<IPython.core.display.Image object>"
      ]
     },
     "metadata": {},
     "output_type": "display_data"
    }
   ],
   "source": [
    "from IPython.display import Image, display\n",
    "\n",
    "display(Image(graph.get_graph().draw_mermaid_png()))"
   ]
  }
 ],
 "metadata": {
  "kernelspec": {
   "display_name": "llm-companion",
   "language": "python",
   "name": "python3"
  },
  "language_info": {
   "codemirror_mode": {
    "name": "ipython",
    "version": 3
   },
   "file_extension": ".py",
   "mimetype": "text/x-python",
   "name": "python",
   "nbconvert_exporter": "python",
   "pygments_lexer": "ipython3",
   "version": "3.12.6"
  }
 },
 "nbformat": 4,
 "nbformat_minor": 5
}
